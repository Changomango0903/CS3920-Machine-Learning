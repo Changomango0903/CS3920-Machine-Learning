{
 "cells": [
  {
   "cell_type": "markdown",
   "metadata": {},
   "source": [
    "### Nearest Neighbour Regression and an Inverted U shape"
   ]
  },
  {
   "cell_type": "code",
   "execution_count": 1,
   "metadata": {},
   "outputs": [
    {
     "data": {
      "text/plain": [
       "(442, 10)"
      ]
     },
     "execution_count": 1,
     "metadata": {},
     "output_type": "execute_result"
    }
   ],
   "source": [
    "from sklearn.datasets import load_diabetes\n",
    "diabetes = load_diabetes()\n",
    "diabetes[\"data\"].shape"
   ]
  },
  {
   "cell_type": "code",
   "execution_count": 2,
   "metadata": {},
   "outputs": [
    {
     "name": "stdout",
     "output_type": "stream",
     "text": [
      ".. _diabetes_dataset:\n",
      "\n",
      "Diabetes dataset\n",
      "----------------\n",
      "\n",
      "Ten baseline variables, age, sex, body mass index, average blood\n",
      "pressure, and six blood serum measurements were obtained for each of n =\n",
      "442 diabetes patients, as well as the response of interest, a\n",
      "quantitative measure of disease progression one year after baseline.\n",
      "\n",
      "**Data Set Characteristics:**\n",
      "\n",
      ":Number of Instances: 442\n",
      "\n",
      ":Number of Attributes: First 10 columns are numeric predictive values\n",
      "\n",
      ":Target: Column 11 is a quantitative measure of disease progression one year after baseline\n",
      "\n",
      ":Attribute Information:\n",
      "    - age     age in years\n",
      "    - sex\n",
      "    - bmi     body mass index\n",
      "    - bp      average blood pressure\n",
      "    - s1      tc, total serum cholesterol\n",
      "    - s2      ldl, low-density lipoproteins\n",
      "    - s3      hdl, high-density lipoproteins\n",
      "    - s4      tch, total cholesterol / HDL\n",
      "    - s5      ltg, possibly log of serum triglycerides level\n",
      "    - s6      glu, blood sugar level\n",
      "\n",
      "Note: Each of these 10 feature variables have been mean centered and scaled by the standard deviation times the square root of `n_samples` (i.e. the sum of squares of each column totals 1).\n",
      "\n",
      "Source URL:\n",
      "https://www4.stat.ncsu.edu/~boos/var.select/diabetes.html\n",
      "\n",
      "For more information see:\n",
      "Bradley Efron, Trevor Hastie, Iain Johnstone and Robert Tibshirani (2004) \"Least Angle Regression,\" Annals of Statistics (with discussion), 407-499.\n",
      "(https://web.stanford.edu/~hastie/Papers/LARS/LeastAngle_2002.pdf)\n",
      "\n"
     ]
    }
   ],
   "source": [
    "print(diabetes.DESCR)"
   ]
  },
  {
   "cell_type": "code",
   "execution_count": 27,
   "metadata": {},
   "outputs": [
    {
     "data": {
      "text/plain": [
       "[<matplotlib.lines.Line2D at 0x70ebc614cfd0>]"
      ]
     },
     "execution_count": 27,
     "metadata": {},
     "output_type": "execute_result"
    },
    {
     "data": {
      "image/png": "[encoded data removed]",
      "text/plain": [
       "<Figure size 640x480 with 1 Axes>"
      ]
     },
     "metadata": {},
     "output_type": "display_data"
    }
   ],
   "source": [
    "from sklearn.model_selection import train_test_split\n",
    "from sklearn.neighbors import KNeighborsRegressor\n",
    "import numpy as np\n",
    "import matplotlib.pyplot as plt\n",
    "\n",
    "X_train, X_test, Y_train, Y_test = train_test_split(diabetes['data'], diabetes['target'], random_state=42)\n",
    "\n",
    "K_max = 35\n",
    "results = np.empty(K_max)\n",
    "for k in range(K_max):\n",
    "    knn = KNeighborsRegressor(n_neighbors = k+1)\n",
    "    knn.fit(X_train, Y_train)\n",
    "    results[k] = knn.score(X_test, Y_test)\n",
    "%matplotlib inline\n",
    "plt.plot(np.arange(K_max)+3, results)"
   ]
  },
  {
   "cell_type": "code",
   "execution_count": 6,
   "metadata": {},
   "outputs": [
    {
     "name": "stdout",
     "output_type": "stream",
     "text": [
      "Help on function score in module sklearn.base:\n",
      "\n",
      "score(self, X, y, sample_weight=None)\n",
      "    Return the coefficient of determination of the prediction.\n",
      "    \n",
      "    The coefficient of determination :math:`R^2` is defined as\n",
      "    :math:`(1 - \\frac{u}{v})`, where :math:`u` is the residual\n",
      "    sum of squares ``((y_true - y_pred)** 2).sum()`` and :math:`v`\n",
      "    is the total sum of squares ``((y_true - y_true.mean()) ** 2).sum()``.\n",
      "    The best possible score is 1.0 and it can be negative (because the\n",
      "    model can be arbitrarily worse). A constant model that always predicts\n",
      "    the expected value of `y`, disregarding the input features, would get\n",
      "    a :math:`R^2` score of 0.0.\n",
      "    \n",
      "    Parameters\n",
      "    ----------\n",
      "    X : array-like of shape (n_samples, n_features)\n",
      "        Test samples. For some estimators this may be a precomputed\n",
      "        kernel matrix or a list of generic objects instead with shape\n",
      "        ``(n_samples, n_samples_fitted)``, where ``n_samples_fitted``\n",
      "        is the number of samples used in the fitting for the estimator.\n",
      "    \n",
      "    y : array-like of shape (n_samples,) or (n_samples, n_outputs)\n",
      "        True values for `X`.\n",
      "    \n",
      "    sample_weight : array-like of shape (n_samples,), default=None\n",
      "        Sample weights.\n",
      "    \n",
      "    Returns\n",
      "    -------\n",
      "    score : float\n",
      "        :math:`R^2` of ``self.predict(X)`` w.r.t. `y`.\n",
      "    \n",
      "    Notes\n",
      "    -----\n",
      "    The :math:`R^2` score used when calling ``score`` on a regressor uses\n",
      "    ``multioutput='uniform_average'`` from version 0.23 to keep consistent\n",
      "    with default value of :func:`~sklearn.metrics.r2_score`.\n",
      "    This influences the ``score`` method of all the multioutput\n",
      "    regressors (except for\n",
      "    :class:`~sklearn.multioutput.MultiOutputRegressor`).\n",
      "\n"
     ]
    }
   ],
   "source": [
    "help(KNeighborsRegressor.score)"
   ]
  },
  {
   "cell_type": "markdown",
   "metadata": {},
   "source": [
    "### Using cross-validation to get an inverted U-shaped curve"
   ]
  },
  {
   "cell_type": "code",
   "execution_count": 7,
   "metadata": {},
   "outputs": [
    {
     "data": {
      "text/plain": [
       "array([0.28743721, 0.24283699, 0.32312734, 0.32108514, 0.12845082])"
      ]
     },
     "execution_count": 7,
     "metadata": {},
     "output_type": "execute_result"
    }
   ],
   "source": [
    "from sklearn.model_selection import cross_val_score\n",
    "knn = KNeighborsRegressor(n_neighbors=3)\n",
    "cross_val_score(knn, X_train, Y_train)"
   ]
  },
  {
   "cell_type": "code",
   "execution_count": 10,
   "metadata": {},
   "outputs": [
    {
     "name": "stdout",
     "output_type": "stream",
     "text": [
      "[0.36498737 0.32300369 0.26748019 0.43230668 0.40572547]\n"
     ]
    }
   ],
   "source": [
    "from sklearn.utils import shuffle\n",
    "X, Y = shuffle(diabetes[\"data\"], diabetes[\"target\"], random_state=42)\n",
    "print(cross_val_score(knn, X, Y))"
   ]
  },
  {
   "cell_type": "code",
   "execution_count": 11,
   "metadata": {},
   "outputs": [
    {
     "data": {
      "text/plain": [
       "0.37222167132521977"
      ]
     },
     "execution_count": 11,
     "metadata": {},
     "output_type": "execute_result"
    }
   ],
   "source": [
    "knn.fit(X_train, Y_train)\n",
    "knn.score(X_test, Y_test)"
   ]
  },
  {
   "cell_type": "code",
   "execution_count": 31,
   "metadata": {},
   "outputs": [
    {
     "data": {
      "text/plain": [
       "[<matplotlib.lines.Line2D at 0x70ebc61b3cd0>]"
      ]
     },
     "execution_count": 31,
     "metadata": {},
     "output_type": "execute_result"
    },
    {
     "data": {
      "image/png": "[encoded data removed]",
      "text/plain": [
       "<Figure size 640x480 with 1 Axes>"
      ]
     },
     "metadata": {},
     "output_type": "display_data"
    }
   ],
   "source": [
    "K_max = 35\n",
    "for k in range(K_max):\n",
    "    knn = KNeighborsRegressor(n_neighbors=k+1)\n",
    "    results[k] = np.mean(cross_val_score(knn, X, Y))\n",
    "plt.plot(np.arange(K_max)+3, results)    "
   ]
  },
  {
   "cell_type": "markdown",
   "metadata": {},
   "source": [
    "Exercises\n",
    "1. np.mean takes all accuracies of each fold in cross_val_score() and performs and average calculation on all the values to give a singular value that can be graphed.\n",
    "2. For both calculations, the optimal K-value floats around the 20-30 range. It may even be argued that 10 would suffice. At large values of K, the accuracy of the predictor drops off drastically. Become less and less accurate as more neighbours are taken in to account."
   ]
  },
  {
   "cell_type": "markdown",
   "metadata": {},
   "source": [
    "### Learning Curves"
   ]
  },
  {
   "cell_type": "code",
   "execution_count": 41,
   "metadata": {},
   "outputs": [
    {
     "data": {
      "text/plain": [
       "[<matplotlib.lines.Line2D at 0x70ebc6b1bcd0>]"
      ]
     },
     "execution_count": 41,
     "metadata": {},
     "output_type": "execute_result"
    },
    {
     "data": {
      "image/png": "[encoded data removed]",
      "text/plain": [
       "<Figure size 640x480 with 1 Axes>"
      ]
     },
     "metadata": {},
     "output_type": "display_data"
    }
   ],
   "source": [
    "knn = KNeighborsRegressor(n_neighbors=10)\n",
    "train_sizes = np.array([50, 75, 100, 125, 150, 175, 200, 225, 250, 275, 300])\n",
    "results = np.empty(train_sizes.size)\n",
    "for k in range(train_sizes.size):\n",
    "    X_train, X_test, Y_train, Y_test = train_test_split(diabetes[\"data\"], diabetes[\"target\"], train_size = train_sizes[k], random_state=42)\n",
    "    knn.fit(X_train, Y_train)\n",
    "    results[k] = knn.score(X_test, Y_test)\n",
    "plt.plot(train_sizes, results)"
   ]
  },
  {
   "cell_type": "markdown",
   "metadata": {},
   "source": [
    "Exercises <br>\n",
    "3. The accuracy is more of a positive linear graph. <br>\n",
    "4. The size of the test set would be 22. If only test_size was specified, train_size would be the complement of test_size on the size of the dataset. You can specify both and they do not have to add up to the size of the dataset. "
   ]
  },
  {
   "cell_type": "markdown",
   "metadata": {},
   "source": [
    "### Value at Risk"
   ]
  },
  {
   "cell_type": "code",
   "execution_count": 43,
   "metadata": {},
   "outputs": [
    {
     "name": "stdout",
     "output_type": "stream",
     "text": [
      "[ 233969.07489145   75735.14104425 -154062.26535846 -401541.30539747\n",
      "   -6289.33477771 -457499.23694129  388009.30138941  229950.10541339\n",
      "  299648.97081513  212482.29905076  122895.74859336  -95520.87283821\n",
      "  290501.29335199  158247.96316032 -364301.53845736 -429688.98455133\n",
      "  -48399.18489608 -131744.51742746  491587.82823849 -471051.3244384\n",
      " -292282.43640625  199729.86563792 -386443.57464487 -276124.89846376\n",
      "  269130.48972821  255437.71484761  382364.22444598 -395653.90694745\n",
      " -441630.482735   -109438.55676939  -43264.35307555   81546.58440723\n",
      " -389309.85410899 -350022.73698778 -472229.9319875   186089.27859436\n",
      "   45343.85724288 -366957.08365966 -106919.94587069  358761.95137191\n",
      "   -1677.6752053   -22104.14653954  -90949.70785548  126421.26312254\n",
      "  405975.58506094  441570.33747467 -206453.77083265 -124086.27609947\n",
      "  -90313.71152407   93154.22823096  218445.34577718   70445.14777493\n",
      "  248249.79685819 -214414.29673551  386605.26714334  121006.74241134\n",
      " -172281.70177809  132134.44488055 -414497.58470659  303228.02108062\n",
      " -420581.95038077   85435.41294335  488212.57692468 -276675.05048154\n",
      " -468534.07310314 -429660.96478326 -313981.53950143   38825.66797993\n",
      "  154995.37019965  273130.62824067  426131.2190276   347845.10903166\n",
      "  480409.88428326   -9443.39302467 -180067.82096974  296475.98123245\n",
      "   92198.07939267  369793.48294048  144610.04571838  -45358.76669968\n",
      " -226710.85062064  -85634.96872729 -495016.29606854 -419595.85916066\n",
      "  287631.15490715 -197021.16723387  362797.60061987  487585.92240827\n",
      " -161357.82478162 -392137.03356915  215873.6336655   441374.36069324\n",
      " -478389.73838102 -212411.47623429  -62324.69096241    6668.51839816\n",
      " -374664.20554704 -489649.26946826  471347.80861319]\n"
     ]
    }
   ],
   "source": [
    "n = 99\n",
    "L = 10**6 * np.random.random((n)) - 10**6/2\n",
    "print(L)"
   ]
  },
  {
   "cell_type": "code",
   "execution_count": 45,
   "metadata": {},
   "outputs": [
    {
     "name": "stdout",
     "output_type": "stream",
     "text": [
      "290501.293351994\n"
     ]
    }
   ],
   "source": [
    "sorted_L = np.sort(L)\n",
    "VaR = sorted_L[-int(np.floor((n+1)/5))]\n",
    "print(VaR)"
   ]
  },
  {
   "cell_type": "code",
   "execution_count": 173,
   "metadata": {},
   "outputs": [],
   "source": [
    "import math\n",
    "def VaR(L):\n",
    "    if L.size >= 4:\n",
    "        return np.sort(L)[-int(np.floor((n+1)/5))]\n",
    "    else:\n",
    "        return math.inf"
   ]
  },
  {
   "cell_type": "markdown",
   "metadata": {},
   "source": [
    "### Validity of conformal prediction: an empirical test"
   ]
  },
  {
   "cell_type": "code",
   "execution_count": 191,
   "metadata": {},
   "outputs": [],
   "source": [
    "N = 500\n",
    "L = 10**6 * np.random.random_sample((N)) - 10**6/2"
   ]
  },
  {
   "cell_type": "code",
   "execution_count": 192,
   "metadata": {},
   "outputs": [
    {
     "name": "stdout",
     "output_type": "stream",
     "text": [
      "0.79\n"
     ]
    }
   ],
   "source": [
    "successes = np.empty(N)\n",
    "for n in range(N):\n",
    "    V = VaR(L[:n])\n",
    "    if L[n] <= V:\n",
    "        successes[n] = 1\n",
    "    else:\n",
    "        successes[n] = 0\n",
    "print(np.mean(successes))\n",
    "    "
   ]
  },
  {
   "cell_type": "code",
   "execution_count": 193,
   "metadata": {},
   "outputs": [
    {
     "data": {
      "text/plain": [
       "[<matplotlib.lines.Line2D at 0x70ebc5f13150>]"
      ]
     },
     "execution_count": 193,
     "metadata": {},
     "output_type": "execute_result"
    },
    {
     "data": {
      "image/png": "[encoded data removed]",
      "text/plain": [
       "<Figure size 640x480 with 1 Axes>"
      ]
     },
     "metadata": {},
     "output_type": "display_data"
    }
   ],
   "source": [
    "plt.plot(np.arange(N)+1, np.cumsum(successes))"
   ]
  },
  {
   "cell_type": "markdown",
   "metadata": {},
   "source": [
    "Exercise <br>\n",
    "5. cumsum is a cumulative sum where it takes the sum of all previous entries and current entry. "
   ]
  },
  {
   "cell_type": "markdown",
   "metadata": {},
   "source": [
    "### One more exercise"
   ]
  },
  {
   "cell_type": "code",
   "execution_count": null,
   "metadata": {},
   "outputs": [],
   "source": [
    "from sklearn.datasets import load_iris\n",
    "\n",
    "iris = load_iris\n",
    "X_train, X_test, Y_train, Y_test = train_test_split(load_iris)\n"
   ]
  }
 ],
 "metadata": {
  "kernelspec": {
   "display_name": ".venv",
   "language": "python",
   "name": "python3"
  },
  "language_info": {
   "codemirror_mode": {
    "name": "ipython",
    "version": 3
   },
   "file_extension": ".py",
   "mimetype": "text/x-python",
   "name": "python",
   "nbconvert_exporter": "python",
   "pygments_lexer": "ipython3",
   "version": "3.11.0rc1"
  }
 },
 "nbformat": 4,
 "nbformat_minor": 2
}
